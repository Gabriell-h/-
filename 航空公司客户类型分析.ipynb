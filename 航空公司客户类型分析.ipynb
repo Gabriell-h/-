{
 "cells": [
  {
   "cell_type": "code",
   "execution_count": 1,
   "metadata": {
    "ExecuteTime": {
     "end_time": "2020-07-21T03:17:32.585514Z",
     "start_time": "2020-07-21T03:17:32.148159Z"
    }
   },
   "outputs": [],
   "source": [
    "import pandas as pd\n",
    "import numpy as np"
   ]
  },
  {
   "cell_type": "code",
   "execution_count": 2,
   "metadata": {
    "ExecuteTime": {
     "end_time": "2020-07-21T03:17:32.993694Z",
     "start_time": "2020-07-21T03:17:32.597572Z"
    }
   },
   "outputs": [
    {
     "data": {
      "text/html": [
       "<div>\n",
       "<style scoped>\n",
       "    .dataframe tbody tr th:only-of-type {\n",
       "        vertical-align: middle;\n",
       "    }\n",
       "\n",
       "    .dataframe tbody tr th {\n",
       "        vertical-align: top;\n",
       "    }\n",
       "\n",
       "    .dataframe thead th {\n",
       "        text-align: right;\n",
       "    }\n",
       "</style>\n",
       "<table border=\"1\" class=\"dataframe\">\n",
       "  <thead>\n",
       "    <tr style=\"text-align: right;\">\n",
       "      <th></th>\n",
       "      <th>MEMBER_NO</th>\n",
       "      <th>FFP_DATE</th>\n",
       "      <th>FIRST_FLIGHT_DATE</th>\n",
       "      <th>GENDER</th>\n",
       "      <th>FFP_TIER</th>\n",
       "      <th>WORK_CITY</th>\n",
       "      <th>WORK_PROVINCE</th>\n",
       "      <th>WORK_COUNTRY</th>\n",
       "      <th>AGE</th>\n",
       "      <th>LOAD_TIME</th>\n",
       "      <th>...</th>\n",
       "      <th>ADD_Point_SUM</th>\n",
       "      <th>Eli_Add_Point_Sum</th>\n",
       "      <th>L1Y_ELi_Add_Points</th>\n",
       "      <th>Points_Sum</th>\n",
       "      <th>L1Y_Points_Sum</th>\n",
       "      <th>Ration_L1Y_Flight_Count</th>\n",
       "      <th>Ration_P1Y_Flight_Count</th>\n",
       "      <th>Ration_P1Y_BPS</th>\n",
       "      <th>Ration_L1Y_BPS</th>\n",
       "      <th>Point_NotFlight</th>\n",
       "    </tr>\n",
       "  </thead>\n",
       "  <tbody>\n",
       "    <tr>\n",
       "      <th>0</th>\n",
       "      <td>54993</td>\n",
       "      <td>2006/11/2</td>\n",
       "      <td>2008/12/24</td>\n",
       "      <td>男</td>\n",
       "      <td>6</td>\n",
       "      <td>.</td>\n",
       "      <td>北京</td>\n",
       "      <td>CN</td>\n",
       "      <td>31.0</td>\n",
       "      <td>2014/3/31</td>\n",
       "      <td>...</td>\n",
       "      <td>39992</td>\n",
       "      <td>114452</td>\n",
       "      <td>111100</td>\n",
       "      <td>619760</td>\n",
       "      <td>370211</td>\n",
       "      <td>0.509524</td>\n",
       "      <td>0.490476</td>\n",
       "      <td>0.487221</td>\n",
       "      <td>0.512777</td>\n",
       "      <td>50</td>\n",
       "    </tr>\n",
       "    <tr>\n",
       "      <th>1</th>\n",
       "      <td>28065</td>\n",
       "      <td>2007/2/19</td>\n",
       "      <td>2007/8/3</td>\n",
       "      <td>男</td>\n",
       "      <td>6</td>\n",
       "      <td>NaN</td>\n",
       "      <td>北京</td>\n",
       "      <td>CN</td>\n",
       "      <td>42.0</td>\n",
       "      <td>2014/3/31</td>\n",
       "      <td>...</td>\n",
       "      <td>12000</td>\n",
       "      <td>53288</td>\n",
       "      <td>53288</td>\n",
       "      <td>415768</td>\n",
       "      <td>238410</td>\n",
       "      <td>0.514286</td>\n",
       "      <td>0.485714</td>\n",
       "      <td>0.489289</td>\n",
       "      <td>0.510708</td>\n",
       "      <td>33</td>\n",
       "    </tr>\n",
       "    <tr>\n",
       "      <th>2</th>\n",
       "      <td>55106</td>\n",
       "      <td>2007/2/1</td>\n",
       "      <td>2007/8/30</td>\n",
       "      <td>男</td>\n",
       "      <td>6</td>\n",
       "      <td>.</td>\n",
       "      <td>北京</td>\n",
       "      <td>CN</td>\n",
       "      <td>40.0</td>\n",
       "      <td>2014/3/31</td>\n",
       "      <td>...</td>\n",
       "      <td>15491</td>\n",
       "      <td>55202</td>\n",
       "      <td>51711</td>\n",
       "      <td>406361</td>\n",
       "      <td>233798</td>\n",
       "      <td>0.518519</td>\n",
       "      <td>0.481481</td>\n",
       "      <td>0.481467</td>\n",
       "      <td>0.518530</td>\n",
       "      <td>26</td>\n",
       "    </tr>\n",
       "    <tr>\n",
       "      <th>3</th>\n",
       "      <td>21189</td>\n",
       "      <td>2008/8/22</td>\n",
       "      <td>2008/8/23</td>\n",
       "      <td>男</td>\n",
       "      <td>5</td>\n",
       "      <td>Los Angeles</td>\n",
       "      <td>CA</td>\n",
       "      <td>US</td>\n",
       "      <td>64.0</td>\n",
       "      <td>2014/3/31</td>\n",
       "      <td>...</td>\n",
       "      <td>0</td>\n",
       "      <td>34890</td>\n",
       "      <td>34890</td>\n",
       "      <td>372204</td>\n",
       "      <td>186100</td>\n",
       "      <td>0.434783</td>\n",
       "      <td>0.565217</td>\n",
       "      <td>0.551722</td>\n",
       "      <td>0.448275</td>\n",
       "      <td>12</td>\n",
       "    </tr>\n",
       "    <tr>\n",
       "      <th>4</th>\n",
       "      <td>39546</td>\n",
       "      <td>2009/4/10</td>\n",
       "      <td>2009/4/15</td>\n",
       "      <td>男</td>\n",
       "      <td>6</td>\n",
       "      <td>贵阳</td>\n",
       "      <td>贵州</td>\n",
       "      <td>CN</td>\n",
       "      <td>48.0</td>\n",
       "      <td>2014/3/31</td>\n",
       "      <td>...</td>\n",
       "      <td>22704</td>\n",
       "      <td>64969</td>\n",
       "      <td>64969</td>\n",
       "      <td>338813</td>\n",
       "      <td>210365</td>\n",
       "      <td>0.532895</td>\n",
       "      <td>0.467105</td>\n",
       "      <td>0.469054</td>\n",
       "      <td>0.530943</td>\n",
       "      <td>39</td>\n",
       "    </tr>\n",
       "  </tbody>\n",
       "</table>\n",
       "<p>5 rows × 44 columns</p>\n",
       "</div>"
      ],
      "text/plain": [
       "   MEMBER_NO   FFP_DATE FIRST_FLIGHT_DATE GENDER  FFP_TIER    WORK_CITY  \\\n",
       "0      54993  2006/11/2        2008/12/24      男         6            .   \n",
       "1      28065  2007/2/19          2007/8/3      男         6          NaN   \n",
       "2      55106   2007/2/1         2007/8/30      男         6            .   \n",
       "3      21189  2008/8/22         2008/8/23      男         5  Los Angeles   \n",
       "4      39546  2009/4/10         2009/4/15      男         6           贵阳   \n",
       "\n",
       "  WORK_PROVINCE WORK_COUNTRY   AGE  LOAD_TIME  ...  ADD_Point_SUM  \\\n",
       "0            北京           CN  31.0  2014/3/31  ...          39992   \n",
       "1            北京           CN  42.0  2014/3/31  ...          12000   \n",
       "2            北京           CN  40.0  2014/3/31  ...          15491   \n",
       "3            CA           US  64.0  2014/3/31  ...              0   \n",
       "4            贵州           CN  48.0  2014/3/31  ...          22704   \n",
       "\n",
       "   Eli_Add_Point_Sum  L1Y_ELi_Add_Points  Points_Sum  L1Y_Points_Sum  \\\n",
       "0             114452              111100      619760          370211   \n",
       "1              53288               53288      415768          238410   \n",
       "2              55202               51711      406361          233798   \n",
       "3              34890               34890      372204          186100   \n",
       "4              64969               64969      338813          210365   \n",
       "\n",
       "   Ration_L1Y_Flight_Count  Ration_P1Y_Flight_Count  Ration_P1Y_BPS  \\\n",
       "0                 0.509524                 0.490476        0.487221   \n",
       "1                 0.514286                 0.485714        0.489289   \n",
       "2                 0.518519                 0.481481        0.481467   \n",
       "3                 0.434783                 0.565217        0.551722   \n",
       "4                 0.532895                 0.467105        0.469054   \n",
       "\n",
       "  Ration_L1Y_BPS  Point_NotFlight  \n",
       "0       0.512777               50  \n",
       "1       0.510708               33  \n",
       "2       0.518530               26  \n",
       "3       0.448275               12  \n",
       "4       0.530943               39  \n",
       "\n",
       "[5 rows x 44 columns]"
      ]
     },
     "execution_count": 2,
     "metadata": {},
     "output_type": "execute_result"
    }
   ],
   "source": [
    "data = pd.read_csv('air_data.csv',encoding='utf-8')\n",
    "data.head()\n"
   ]
  },
  {
   "cell_type": "code",
   "execution_count": 3,
   "metadata": {
    "ExecuteTime": {
     "end_time": "2020-07-21T03:17:33.213573Z",
     "start_time": "2020-07-21T03:17:33.059417Z"
    }
   },
   "outputs": [
    {
     "data": {
      "text/plain": [
       "MEMBER_NO                    0.0\n",
       "FFP_TIER                     0.0\n",
       "AGE                        420.0\n",
       "FLIGHT_COUNT                 0.0\n",
       "BP_SUM                       0.0\n",
       "EP_SUM_YR_1                  0.0\n",
       "EP_SUM_YR_2                  0.0\n",
       "SUM_YR_1                   551.0\n",
       "SUM_YR_2                   138.0\n",
       "SEG_KM_SUM                   0.0\n",
       "WEIGHTED_SEG_KM              0.0\n",
       "AVG_FLIGHT_COUNT             0.0\n",
       "AVG_BP_SUM                   0.0\n",
       "BEGIN_TO_FIRST               0.0\n",
       "LAST_TO_END                  0.0\n",
       "AVG_INTERVAL                 0.0\n",
       "MAX_INTERVAL                 0.0\n",
       "ADD_POINTS_SUM_YR_1          0.0\n",
       "ADD_POINTS_SUM_YR_2          0.0\n",
       "EXCHANGE_COUNT               0.0\n",
       "avg_discount                 0.0\n",
       "P1Y_Flight_Count             0.0\n",
       "L1Y_Flight_Count             0.0\n",
       "P1Y_BP_SUM                   0.0\n",
       "L1Y_BP_SUM                   0.0\n",
       "EP_SUM                       0.0\n",
       "ADD_Point_SUM                0.0\n",
       "Eli_Add_Point_Sum            0.0\n",
       "L1Y_ELi_Add_Points           0.0\n",
       "Points_Sum                   0.0\n",
       "L1Y_Points_Sum               0.0\n",
       "Ration_L1Y_Flight_Count      0.0\n",
       "Ration_P1Y_Flight_Count      0.0\n",
       "Ration_P1Y_BPS               0.0\n",
       "Ration_L1Y_BPS               0.0\n",
       "Point_NotFlight              0.0\n",
       "Name: null, dtype: float64"
      ]
     },
     "execution_count": 3,
     "metadata": {},
     "output_type": "execute_result"
    }
   ],
   "source": [
    "explore  = data.describe().T\n",
    "explore['null'] = len(data) - explore['count']\n",
    "explore['null']"
   ]
  },
  {
   "cell_type": "code",
   "execution_count": 4,
   "metadata": {
    "ExecuteTime": {
     "end_time": "2020-07-21T03:17:33.305093Z",
     "start_time": "2020-07-21T03:17:33.292335Z"
    }
   },
   "outputs": [
    {
     "data": {
      "text/html": [
       "<div>\n",
       "<style scoped>\n",
       "    .dataframe tbody tr th:only-of-type {\n",
       "        vertical-align: middle;\n",
       "    }\n",
       "\n",
       "    .dataframe tbody tr th {\n",
       "        vertical-align: top;\n",
       "    }\n",
       "\n",
       "    .dataframe thead th {\n",
       "        text-align: right;\n",
       "    }\n",
       "</style>\n",
       "<table border=\"1\" class=\"dataframe\">\n",
       "  <thead>\n",
       "    <tr style=\"text-align: right;\">\n",
       "      <th></th>\n",
       "      <th>空值数量</th>\n",
       "      <th>最大值</th>\n",
       "      <th>最小值</th>\n",
       "    </tr>\n",
       "  </thead>\n",
       "  <tbody>\n",
       "    <tr>\n",
       "      <th>MEMBER_NO</th>\n",
       "      <td>0.0</td>\n",
       "      <td>62988.000000</td>\n",
       "      <td>1.00</td>\n",
       "    </tr>\n",
       "    <tr>\n",
       "      <th>FFP_TIER</th>\n",
       "      <td>0.0</td>\n",
       "      <td>6.000000</td>\n",
       "      <td>4.00</td>\n",
       "    </tr>\n",
       "    <tr>\n",
       "      <th>AGE</th>\n",
       "      <td>420.0</td>\n",
       "      <td>110.000000</td>\n",
       "      <td>6.00</td>\n",
       "    </tr>\n",
       "    <tr>\n",
       "      <th>FLIGHT_COUNT</th>\n",
       "      <td>0.0</td>\n",
       "      <td>213.000000</td>\n",
       "      <td>2.00</td>\n",
       "    </tr>\n",
       "    <tr>\n",
       "      <th>BP_SUM</th>\n",
       "      <td>0.0</td>\n",
       "      <td>505308.000000</td>\n",
       "      <td>0.00</td>\n",
       "    </tr>\n",
       "    <tr>\n",
       "      <th>EP_SUM_YR_1</th>\n",
       "      <td>0.0</td>\n",
       "      <td>0.000000</td>\n",
       "      <td>0.00</td>\n",
       "    </tr>\n",
       "    <tr>\n",
       "      <th>EP_SUM_YR_2</th>\n",
       "      <td>0.0</td>\n",
       "      <td>74460.000000</td>\n",
       "      <td>0.00</td>\n",
       "    </tr>\n",
       "    <tr>\n",
       "      <th>SUM_YR_1</th>\n",
       "      <td>551.0</td>\n",
       "      <td>239560.000000</td>\n",
       "      <td>0.00</td>\n",
       "    </tr>\n",
       "    <tr>\n",
       "      <th>SUM_YR_2</th>\n",
       "      <td>138.0</td>\n",
       "      <td>234188.000000</td>\n",
       "      <td>0.00</td>\n",
       "    </tr>\n",
       "    <tr>\n",
       "      <th>SEG_KM_SUM</th>\n",
       "      <td>0.0</td>\n",
       "      <td>580717.000000</td>\n",
       "      <td>368.00</td>\n",
       "    </tr>\n",
       "    <tr>\n",
       "      <th>WEIGHTED_SEG_KM</th>\n",
       "      <td>0.0</td>\n",
       "      <td>558440.140000</td>\n",
       "      <td>0.00</td>\n",
       "    </tr>\n",
       "    <tr>\n",
       "      <th>AVG_FLIGHT_COUNT</th>\n",
       "      <td>0.0</td>\n",
       "      <td>26.625000</td>\n",
       "      <td>0.25</td>\n",
       "    </tr>\n",
       "    <tr>\n",
       "      <th>AVG_BP_SUM</th>\n",
       "      <td>0.0</td>\n",
       "      <td>63163.500000</td>\n",
       "      <td>0.00</td>\n",
       "    </tr>\n",
       "    <tr>\n",
       "      <th>BEGIN_TO_FIRST</th>\n",
       "      <td>0.0</td>\n",
       "      <td>729.000000</td>\n",
       "      <td>0.00</td>\n",
       "    </tr>\n",
       "    <tr>\n",
       "      <th>LAST_TO_END</th>\n",
       "      <td>0.0</td>\n",
       "      <td>731.000000</td>\n",
       "      <td>1.00</td>\n",
       "    </tr>\n",
       "    <tr>\n",
       "      <th>AVG_INTERVAL</th>\n",
       "      <td>0.0</td>\n",
       "      <td>728.000000</td>\n",
       "      <td>0.00</td>\n",
       "    </tr>\n",
       "    <tr>\n",
       "      <th>MAX_INTERVAL</th>\n",
       "      <td>0.0</td>\n",
       "      <td>728.000000</td>\n",
       "      <td>0.00</td>\n",
       "    </tr>\n",
       "    <tr>\n",
       "      <th>ADD_POINTS_SUM_YR_1</th>\n",
       "      <td>0.0</td>\n",
       "      <td>600000.000000</td>\n",
       "      <td>0.00</td>\n",
       "    </tr>\n",
       "    <tr>\n",
       "      <th>ADD_POINTS_SUM_YR_2</th>\n",
       "      <td>0.0</td>\n",
       "      <td>728282.000000</td>\n",
       "      <td>0.00</td>\n",
       "    </tr>\n",
       "    <tr>\n",
       "      <th>EXCHANGE_COUNT</th>\n",
       "      <td>0.0</td>\n",
       "      <td>46.000000</td>\n",
       "      <td>0.00</td>\n",
       "    </tr>\n",
       "    <tr>\n",
       "      <th>avg_discount</th>\n",
       "      <td>0.0</td>\n",
       "      <td>1.500000</td>\n",
       "      <td>0.00</td>\n",
       "    </tr>\n",
       "    <tr>\n",
       "      <th>P1Y_Flight_Count</th>\n",
       "      <td>0.0</td>\n",
       "      <td>118.000000</td>\n",
       "      <td>0.00</td>\n",
       "    </tr>\n",
       "    <tr>\n",
       "      <th>L1Y_Flight_Count</th>\n",
       "      <td>0.0</td>\n",
       "      <td>111.000000</td>\n",
       "      <td>0.00</td>\n",
       "    </tr>\n",
       "    <tr>\n",
       "      <th>P1Y_BP_SUM</th>\n",
       "      <td>0.0</td>\n",
       "      <td>246197.000000</td>\n",
       "      <td>0.00</td>\n",
       "    </tr>\n",
       "    <tr>\n",
       "      <th>L1Y_BP_SUM</th>\n",
       "      <td>0.0</td>\n",
       "      <td>259111.000000</td>\n",
       "      <td>0.00</td>\n",
       "    </tr>\n",
       "    <tr>\n",
       "      <th>EP_SUM</th>\n",
       "      <td>0.0</td>\n",
       "      <td>74460.000000</td>\n",
       "      <td>0.00</td>\n",
       "    </tr>\n",
       "    <tr>\n",
       "      <th>ADD_Point_SUM</th>\n",
       "      <td>0.0</td>\n",
       "      <td>984938.000000</td>\n",
       "      <td>0.00</td>\n",
       "    </tr>\n",
       "    <tr>\n",
       "      <th>Eli_Add_Point_Sum</th>\n",
       "      <td>0.0</td>\n",
       "      <td>984938.000000</td>\n",
       "      <td>0.00</td>\n",
       "    </tr>\n",
       "    <tr>\n",
       "      <th>L1Y_ELi_Add_Points</th>\n",
       "      <td>0.0</td>\n",
       "      <td>728282.000000</td>\n",
       "      <td>0.00</td>\n",
       "    </tr>\n",
       "    <tr>\n",
       "      <th>Points_Sum</th>\n",
       "      <td>0.0</td>\n",
       "      <td>985572.000000</td>\n",
       "      <td>0.00</td>\n",
       "    </tr>\n",
       "    <tr>\n",
       "      <th>L1Y_Points_Sum</th>\n",
       "      <td>0.0</td>\n",
       "      <td>728282.000000</td>\n",
       "      <td>0.00</td>\n",
       "    </tr>\n",
       "    <tr>\n",
       "      <th>Ration_L1Y_Flight_Count</th>\n",
       "      <td>0.0</td>\n",
       "      <td>1.000000</td>\n",
       "      <td>0.00</td>\n",
       "    </tr>\n",
       "    <tr>\n",
       "      <th>Ration_P1Y_Flight_Count</th>\n",
       "      <td>0.0</td>\n",
       "      <td>1.000000</td>\n",
       "      <td>0.00</td>\n",
       "    </tr>\n",
       "    <tr>\n",
       "      <th>Ration_P1Y_BPS</th>\n",
       "      <td>0.0</td>\n",
       "      <td>0.999989</td>\n",
       "      <td>0.00</td>\n",
       "    </tr>\n",
       "    <tr>\n",
       "      <th>Ration_L1Y_BPS</th>\n",
       "      <td>0.0</td>\n",
       "      <td>0.999993</td>\n",
       "      <td>0.00</td>\n",
       "    </tr>\n",
       "    <tr>\n",
       "      <th>Point_NotFlight</th>\n",
       "      <td>0.0</td>\n",
       "      <td>140.000000</td>\n",
       "      <td>0.00</td>\n",
       "    </tr>\n",
       "  </tbody>\n",
       "</table>\n",
       "</div>"
      ],
      "text/plain": [
       "                          空值数量            最大值     最小值\n",
       "MEMBER_NO                  0.0   62988.000000    1.00\n",
       "FFP_TIER                   0.0       6.000000    4.00\n",
       "AGE                      420.0     110.000000    6.00\n",
       "FLIGHT_COUNT               0.0     213.000000    2.00\n",
       "BP_SUM                     0.0  505308.000000    0.00\n",
       "EP_SUM_YR_1                0.0       0.000000    0.00\n",
       "EP_SUM_YR_2                0.0   74460.000000    0.00\n",
       "SUM_YR_1                 551.0  239560.000000    0.00\n",
       "SUM_YR_2                 138.0  234188.000000    0.00\n",
       "SEG_KM_SUM                 0.0  580717.000000  368.00\n",
       "WEIGHTED_SEG_KM            0.0  558440.140000    0.00\n",
       "AVG_FLIGHT_COUNT           0.0      26.625000    0.25\n",
       "AVG_BP_SUM                 0.0   63163.500000    0.00\n",
       "BEGIN_TO_FIRST             0.0     729.000000    0.00\n",
       "LAST_TO_END                0.0     731.000000    1.00\n",
       "AVG_INTERVAL               0.0     728.000000    0.00\n",
       "MAX_INTERVAL               0.0     728.000000    0.00\n",
       "ADD_POINTS_SUM_YR_1        0.0  600000.000000    0.00\n",
       "ADD_POINTS_SUM_YR_2        0.0  728282.000000    0.00\n",
       "EXCHANGE_COUNT             0.0      46.000000    0.00\n",
       "avg_discount               0.0       1.500000    0.00\n",
       "P1Y_Flight_Count           0.0     118.000000    0.00\n",
       "L1Y_Flight_Count           0.0     111.000000    0.00\n",
       "P1Y_BP_SUM                 0.0  246197.000000    0.00\n",
       "L1Y_BP_SUM                 0.0  259111.000000    0.00\n",
       "EP_SUM                     0.0   74460.000000    0.00\n",
       "ADD_Point_SUM              0.0  984938.000000    0.00\n",
       "Eli_Add_Point_Sum          0.0  984938.000000    0.00\n",
       "L1Y_ELi_Add_Points         0.0  728282.000000    0.00\n",
       "Points_Sum                 0.0  985572.000000    0.00\n",
       "L1Y_Points_Sum             0.0  728282.000000    0.00\n",
       "Ration_L1Y_Flight_Count    0.0       1.000000    0.00\n",
       "Ration_P1Y_Flight_Count    0.0       1.000000    0.00\n",
       "Ration_P1Y_BPS             0.0       0.999989    0.00\n",
       "Ration_L1Y_BPS             0.0       0.999993    0.00\n",
       "Point_NotFlight            0.0     140.000000    0.00"
      ]
     },
     "execution_count": 4,
     "metadata": {},
     "output_type": "execute_result"
    }
   ],
   "source": [
    "explore = explore[['null','max','min']]\n",
    "explore.columns = ['空值数量','最大值','最小值']\n",
    "explore"
   ]
  },
  {
   "cell_type": "code",
   "execution_count": 5,
   "metadata": {
    "ExecuteTime": {
     "end_time": "2020-07-21T03:17:33.387881Z",
     "start_time": "2020-07-21T03:17:33.367701Z"
    }
   },
   "outputs": [
    {
     "name": "stdout",
     "output_type": "stream",
     "text": [
      "获取删除缺失值后的数据形状： (62299, 44)\n"
     ]
    }
   ],
   "source": [
    "data_notnull = data.loc[data['SUM_YR_1'].notnull() & data['SUM_YR_2'].notnull(),:]\n",
    "print(\"获取删除缺失值后的数据形状：\",data_notnull.shape)"
   ]
  },
  {
   "cell_type": "code",
   "execution_count": 6,
   "metadata": {
    "ExecuteTime": {
     "end_time": "2020-07-21T03:17:33.524009Z",
     "start_time": "2020-07-21T03:17:33.502582Z"
    }
   },
   "outputs": [
    {
     "name": "stdout",
     "output_type": "stream",
     "text": [
      "数据清洗后的形状 (62043, 44)\n"
     ]
    }
   ],
   "source": [
    "# 保留票价非零的数据，或者是平均折扣率不为0且飞行里程数大于0的记录\n",
    "index1 = data_notnull['SUM_YR_1'] != 0\n",
    "index2 = data_notnull['SUM_YR_2'] != 0\n",
    "index3 = (data_notnull['avg_discount'] != 0) &(data_notnull['SEG_KM_SUM'] > 0)\n",
    "# 去除掉年龄大于100岁的客户\n",
    "index4 = data_notnull['AGE'] > 100\n",
    "data_fliter = data_notnull[(index1 | index2) & index3 & ~index4]\n",
    "print(\"数据清洗后的形状\",data_fliter.shape)"
   ]
  },
  {
   "cell_type": "code",
   "execution_count": 7,
   "metadata": {
    "ExecuteTime": {
     "end_time": "2020-07-21T03:17:33.699355Z",
     "start_time": "2020-07-21T03:17:33.695026Z"
    },
    "scrolled": true
   },
   "outputs": [
    {
     "data": {
      "text/plain": [
       "Index(['MEMBER_NO', 'FFP_DATE', 'FIRST_FLIGHT_DATE', 'GENDER', 'FFP_TIER',\n",
       "       'WORK_CITY', 'WORK_PROVINCE', 'WORK_COUNTRY', 'AGE', 'LOAD_TIME',\n",
       "       'FLIGHT_COUNT', 'BP_SUM', 'EP_SUM_YR_1', 'EP_SUM_YR_2', 'SUM_YR_1',\n",
       "       'SUM_YR_2', 'SEG_KM_SUM', 'WEIGHTED_SEG_KM', 'LAST_FLIGHT_DATE',\n",
       "       'AVG_FLIGHT_COUNT', 'AVG_BP_SUM', 'BEGIN_TO_FIRST', 'LAST_TO_END',\n",
       "       'AVG_INTERVAL', 'MAX_INTERVAL', 'ADD_POINTS_SUM_YR_1',\n",
       "       'ADD_POINTS_SUM_YR_2', 'EXCHANGE_COUNT', 'avg_discount',\n",
       "       'P1Y_Flight_Count', 'L1Y_Flight_Count', 'P1Y_BP_SUM', 'L1Y_BP_SUM',\n",
       "       'EP_SUM', 'ADD_Point_SUM', 'Eli_Add_Point_Sum', 'L1Y_ELi_Add_Points',\n",
       "       'Points_Sum', 'L1Y_Points_Sum', 'Ration_L1Y_Flight_Count',\n",
       "       'Ration_P1Y_Flight_Count', 'Ration_P1Y_BPS', 'Ration_L1Y_BPS',\n",
       "       'Point_NotFlight'],\n",
       "      dtype='object')"
      ]
     },
     "execution_count": 7,
     "metadata": {},
     "output_type": "execute_result"
    }
   ],
   "source": [
    "data.columns"
   ]
  },
  {
   "cell_type": "markdown",
   "metadata": {},
   "source": [
    "# LRFMC\n",
    "- L （关系长度）= LOAD_TIME - FFP_DATE\n",
    "- R  (消费的时间间隔）= LAST_TO_END\n",
    "- F  (消费频率) = FLIGHT_COUNT\n",
    "- M  (飞行里程) = SEG_KM_SUM\n",
    "- C  (折扣率的平均值）= avg_discount"
   ]
  },
  {
   "cell_type": "code",
   "execution_count": 8,
   "metadata": {
    "ExecuteTime": {
     "end_time": "2020-07-21T03:17:35.138421Z",
     "start_time": "2020-07-21T03:17:33.860960Z"
    }
   },
   "outputs": [],
   "source": [
    "data_fliter.to_csv('fliter.csv')"
   ]
  },
  {
   "cell_type": "code",
   "execution_count": 9,
   "metadata": {
    "ExecuteTime": {
     "end_time": "2020-07-21T03:17:35.594169Z",
     "start_time": "2020-07-21T03:17:35.309613Z"
    }
   },
   "outputs": [
    {
     "data": {
      "text/html": [
       "<div>\n",
       "<style scoped>\n",
       "    .dataframe tbody tr th:only-of-type {\n",
       "        vertical-align: middle;\n",
       "    }\n",
       "\n",
       "    .dataframe tbody tr th {\n",
       "        vertical-align: top;\n",
       "    }\n",
       "\n",
       "    .dataframe thead th {\n",
       "        text-align: right;\n",
       "    }\n",
       "</style>\n",
       "<table border=\"1\" class=\"dataframe\">\n",
       "  <thead>\n",
       "    <tr style=\"text-align: right;\">\n",
       "      <th></th>\n",
       "      <th>LOAD_TIME</th>\n",
       "      <th>FFP_DATE</th>\n",
       "      <th>LAST_TO_END</th>\n",
       "      <th>FLIGHT_COUNT</th>\n",
       "      <th>SEG_KM_SUM</th>\n",
       "      <th>avg_discount</th>\n",
       "    </tr>\n",
       "  </thead>\n",
       "  <tbody>\n",
       "    <tr>\n",
       "      <th>0</th>\n",
       "      <td>2014/3/31</td>\n",
       "      <td>2006/11/2</td>\n",
       "      <td>1</td>\n",
       "      <td>210</td>\n",
       "      <td>580717</td>\n",
       "      <td>0.961639</td>\n",
       "    </tr>\n",
       "    <tr>\n",
       "      <th>1</th>\n",
       "      <td>2014/3/31</td>\n",
       "      <td>2007/2/19</td>\n",
       "      <td>7</td>\n",
       "      <td>140</td>\n",
       "      <td>293678</td>\n",
       "      <td>1.252314</td>\n",
       "    </tr>\n",
       "    <tr>\n",
       "      <th>2</th>\n",
       "      <td>2014/3/31</td>\n",
       "      <td>2007/2/1</td>\n",
       "      <td>11</td>\n",
       "      <td>135</td>\n",
       "      <td>283712</td>\n",
       "      <td>1.254676</td>\n",
       "    </tr>\n",
       "    <tr>\n",
       "      <th>3</th>\n",
       "      <td>2014/3/31</td>\n",
       "      <td>2008/8/22</td>\n",
       "      <td>97</td>\n",
       "      <td>23</td>\n",
       "      <td>281336</td>\n",
       "      <td>1.090870</td>\n",
       "    </tr>\n",
       "    <tr>\n",
       "      <th>4</th>\n",
       "      <td>2014/3/31</td>\n",
       "      <td>2009/4/10</td>\n",
       "      <td>5</td>\n",
       "      <td>152</td>\n",
       "      <td>309928</td>\n",
       "      <td>0.970658</td>\n",
       "    </tr>\n",
       "  </tbody>\n",
       "</table>\n",
       "</div>"
      ],
      "text/plain": [
       "   LOAD_TIME   FFP_DATE  LAST_TO_END  FLIGHT_COUNT  SEG_KM_SUM  avg_discount\n",
       "0  2014/3/31  2006/11/2            1           210      580717      0.961639\n",
       "1  2014/3/31  2007/2/19            7           140      293678      1.252314\n",
       "2  2014/3/31   2007/2/1           11           135      283712      1.254676\n",
       "3  2014/3/31  2008/8/22           97            23      281336      1.090870\n",
       "4  2014/3/31  2009/4/10            5           152      309928      0.970658"
      ]
     },
     "execution_count": 9,
     "metadata": {},
     "output_type": "execute_result"
    }
   ],
   "source": [
    "# 数据的预处理\n",
    "airline = pd.read_csv('fliter.csv')\n",
    "airline_selection = airline[['LOAD_TIME','FFP_DATE','LAST_TO_END','FLIGHT_COUNT','SEG_KM_SUM','avg_discount']]\n",
    "airline_selection.head()"
   ]
  },
  {
   "cell_type": "code",
   "execution_count": 10,
   "metadata": {
    "ExecuteTime": {
     "end_time": "2020-07-21T03:17:35.843236Z",
     "start_time": "2020-07-21T03:17:35.816423Z"
    },
    "scrolled": true
   },
   "outputs": [
    {
     "data": {
      "text/plain": [
       "0       2706 days\n",
       "1       2597 days\n",
       "2       2615 days\n",
       "3       2047 days\n",
       "4       1816 days\n",
       "           ...   \n",
       "62038   3249 days\n",
       "62039   1961 days\n",
       "62040   1362 days\n",
       "62041    466 days\n",
       "62042   1082 days\n",
       "Length: 62043, dtype: timedelta64[ns]"
      ]
     },
     "execution_count": 10,
     "metadata": {},
     "output_type": "execute_result"
    }
   ],
   "source": [
    "L = pd.to_datetime(airline_selection['LOAD_TIME']) - pd.to_datetime(airline_selection['FFP_DATE'])\n",
    "L"
   ]
  },
  {
   "cell_type": "code",
   "execution_count": 11,
   "metadata": {
    "ExecuteTime": {
     "end_time": "2020-07-21T03:17:36.934905Z",
     "start_time": "2020-07-21T03:17:36.066254Z"
    }
   },
   "outputs": [
    {
     "data": {
      "text/plain": [
       "0        2706\n",
       "1        2597\n",
       "2        2615\n",
       "3        2047\n",
       "4        1816\n",
       "         ... \n",
       "62038    3249\n",
       "62039    1961\n",
       "62040    1362\n",
       "62041     466\n",
       "62042    1082\n",
       "Length: 62043, dtype: object"
      ]
     },
     "execution_count": 11,
     "metadata": {},
     "output_type": "execute_result"
    }
   ],
   "source": [
    "L = L.astype('str').str.split().str[0]\n",
    "L"
   ]
  },
  {
   "cell_type": "code",
   "execution_count": 12,
   "metadata": {
    "ExecuteTime": {
     "end_time": "2020-07-21T03:17:37.180590Z",
     "start_time": "2020-07-21T03:17:37.168317Z"
    }
   },
   "outputs": [
    {
     "data": {
      "text/plain": [
       "0    90.200000\n",
       "1    86.566667\n",
       "2    87.166667\n",
       "3    68.233333\n",
       "4    60.533333\n",
       "dtype: float64"
      ]
     },
     "execution_count": 12,
     "metadata": {},
     "output_type": "execute_result"
    }
   ],
   "source": [
    "L = L.astype('int') / 30\n",
    "L.head()"
   ]
  },
  {
   "cell_type": "code",
   "execution_count": 13,
   "metadata": {
    "ExecuteTime": {
     "end_time": "2020-07-21T03:17:37.408293Z",
     "start_time": "2020-07-21T03:17:37.396772Z"
    }
   },
   "outputs": [
    {
     "data": {
      "text/html": [
       "<div>\n",
       "<style scoped>\n",
       "    .dataframe tbody tr th:only-of-type {\n",
       "        vertical-align: middle;\n",
       "    }\n",
       "\n",
       "    .dataframe tbody tr th {\n",
       "        vertical-align: top;\n",
       "    }\n",
       "\n",
       "    .dataframe thead th {\n",
       "        text-align: right;\n",
       "    }\n",
       "</style>\n",
       "<table border=\"1\" class=\"dataframe\">\n",
       "  <thead>\n",
       "    <tr style=\"text-align: right;\">\n",
       "      <th></th>\n",
       "      <th>L</th>\n",
       "      <th>R</th>\n",
       "      <th>F</th>\n",
       "      <th>M</th>\n",
       "      <th>C</th>\n",
       "    </tr>\n",
       "  </thead>\n",
       "  <tbody>\n",
       "    <tr>\n",
       "      <th>0</th>\n",
       "      <td>90.200000</td>\n",
       "      <td>1</td>\n",
       "      <td>210</td>\n",
       "      <td>580717</td>\n",
       "      <td>0.961639</td>\n",
       "    </tr>\n",
       "    <tr>\n",
       "      <th>1</th>\n",
       "      <td>86.566667</td>\n",
       "      <td>7</td>\n",
       "      <td>140</td>\n",
       "      <td>293678</td>\n",
       "      <td>1.252314</td>\n",
       "    </tr>\n",
       "    <tr>\n",
       "      <th>2</th>\n",
       "      <td>87.166667</td>\n",
       "      <td>11</td>\n",
       "      <td>135</td>\n",
       "      <td>283712</td>\n",
       "      <td>1.254676</td>\n",
       "    </tr>\n",
       "    <tr>\n",
       "      <th>3</th>\n",
       "      <td>68.233333</td>\n",
       "      <td>97</td>\n",
       "      <td>23</td>\n",
       "      <td>281336</td>\n",
       "      <td>1.090870</td>\n",
       "    </tr>\n",
       "    <tr>\n",
       "      <th>4</th>\n",
       "      <td>60.533333</td>\n",
       "      <td>5</td>\n",
       "      <td>152</td>\n",
       "      <td>309928</td>\n",
       "      <td>0.970658</td>\n",
       "    </tr>\n",
       "  </tbody>\n",
       "</table>\n",
       "</div>"
      ],
      "text/plain": [
       "           L   R    F       M         C\n",
       "0  90.200000   1  210  580717  0.961639\n",
       "1  86.566667   7  140  293678  1.252314\n",
       "2  87.166667  11  135  283712  1.254676\n",
       "3  68.233333  97   23  281336  1.090870\n",
       "4  60.533333   5  152  309928  0.970658"
      ]
     },
     "execution_count": 13,
     "metadata": {},
     "output_type": "execute_result"
    }
   ],
   "source": [
    "# 属性合并\n",
    "airline_features = pd.concat([L,airline_selection.iloc[:,2:]],axis=1)\n",
    "airline_features.columns = ['L','R','F','M','C']\n",
    "airline_features.head()"
   ]
  },
  {
   "cell_type": "code",
   "execution_count": 14,
   "metadata": {
    "ExecuteTime": {
     "end_time": "2020-07-21T03:17:38.416790Z",
     "start_time": "2020-07-21T03:17:37.627928Z"
    }
   },
   "outputs": [
    {
     "data": {
      "text/plain": [
       "array([[ 1.43579256, -0.94493902, 14.03402401, 26.76115699,  1.29554188],\n",
       "       [ 1.30723219, -0.91188564,  9.07321595, 13.12686436,  2.86817777],\n",
       "       [ 1.32846234, -0.88985006,  8.71887252, 12.65348144,  2.88095186],\n",
       "       [ 0.65853304, -0.41608504,  0.78157962, 12.54062193,  1.99471546],\n",
       "       [ 0.3860794 , -0.92290343,  9.92364019, 13.89873597,  1.34433641]])"
      ]
     },
     "execution_count": 14,
     "metadata": {},
     "output_type": "execute_result"
    }
   ],
   "source": [
    "# 数据标准化\n",
    "from sklearn.preprocessing import StandardScaler\n",
    "data = StandardScaler().fit_transform(airline_features)\n",
    "np.savez('airline_scale.npz',data)\n",
    "data[:5,]"
   ]
  },
  {
   "cell_type": "code",
   "execution_count": 15,
   "metadata": {
    "ExecuteTime": {
     "end_time": "2020-07-21T03:17:39.564557Z",
     "start_time": "2020-07-21T03:17:38.606693Z"
    }
   },
   "outputs": [
    {
     "data": {
      "text/plain": [
       "array([[ 1.16108399e+00, -3.77499994e-01, -8.65189669e-02,\n",
       "        -9.44338125e-02, -1.57047742e-01],\n",
       "       [ 4.30744744e-02, -1.70312626e-03, -2.32695277e-01,\n",
       "        -2.36587633e-01,  2.17138891e+00],\n",
       "       [-7.00326044e-01, -4.15377753e-01, -1.60648047e-01,\n",
       "        -1.60390485e-01, -2.57380124e-01],\n",
       "       [ 4.83304628e-01, -7.99421213e-01,  2.48303869e+00,\n",
       "         2.42388525e+00,  3.10034088e-01],\n",
       "       [-3.13136330e-01,  1.68641023e+00, -5.73859336e-01,\n",
       "        -5.36663736e-01, -1.75973079e-01]])"
      ]
     },
     "execution_count": 15,
     "metadata": {},
     "output_type": "execute_result"
    }
   ],
   "source": [
    "# 聚类分析\n",
    "from sklearn.cluster import KMeans\n",
    "airline_scale = np.load('airline_scale.npz')['arr_0']\n",
    "k = 5\n",
    "kmeans_model = KMeans(n_clusters=k,random_state=123)\n",
    "fit_means = kmeans_model.fit(airline_scale)\n",
    "\n",
    "\n",
    "# 获取到聚类中心\n",
    "kmeans_cc = kmeans_model.cluster_centers_\n",
    "kmeans_cc\n"
   ]
  },
  {
   "cell_type": "code",
   "execution_count": 16,
   "metadata": {
    "ExecuteTime": {
     "end_time": "2020-07-21T03:17:39.800034Z",
     "start_time": "2020-07-21T03:17:39.794570Z"
    }
   },
   "outputs": [
    {
     "data": {
      "text/plain": [
       "array([3, 3, 3, ..., 2, 4, 4], dtype=int32)"
      ]
     },
     "execution_count": 16,
     "metadata": {},
     "output_type": "execute_result"
    }
   ],
   "source": [
    "kmeas_labels = kmeans_model.labels_\n",
    "kmeas_labels"
   ]
  },
  {
   "cell_type": "code",
   "execution_count": 17,
   "metadata": {
    "ExecuteTime": {
     "end_time": "2020-07-21T03:17:39.992181Z",
     "start_time": "2020-07-21T03:17:39.984606Z"
    }
   },
   "outputs": [
    {
     "data": {
      "text/plain": [
       "2    24617\n",
       "0    15727\n",
       "4    12115\n",
       "3     5337\n",
       "1     4247\n",
       "dtype: int64"
      ]
     },
     "execution_count": 17,
     "metadata": {},
     "output_type": "execute_result"
    }
   ],
   "source": [
    "r1 = pd.Series(kmeans_model.labels_).value_counts()\n",
    "r1"
   ]
  },
  {
   "cell_type": "code",
   "execution_count": 18,
   "metadata": {
    "ExecuteTime": {
     "end_time": "2020-07-21T03:17:40.184960Z",
     "start_time": "2020-07-21T03:17:40.175593Z"
    }
   },
   "outputs": [
    {
     "data": {
      "text/html": [
       "<div>\n",
       "<style scoped>\n",
       "    .dataframe tbody tr th:only-of-type {\n",
       "        vertical-align: middle;\n",
       "    }\n",
       "\n",
       "    .dataframe tbody tr th {\n",
       "        vertical-align: top;\n",
       "    }\n",
       "\n",
       "    .dataframe thead th {\n",
       "        text-align: right;\n",
       "    }\n",
       "</style>\n",
       "<table border=\"1\" class=\"dataframe\">\n",
       "  <thead>\n",
       "    <tr style=\"text-align: right;\">\n",
       "      <th></th>\n",
       "      <th>L</th>\n",
       "      <th>R</th>\n",
       "      <th>F</th>\n",
       "      <th>M</th>\n",
       "      <th>C</th>\n",
       "    </tr>\n",
       "  </thead>\n",
       "  <tbody>\n",
       "    <tr>\n",
       "      <th>0</th>\n",
       "      <td>1.161084</td>\n",
       "      <td>-0.377500</td>\n",
       "      <td>-0.086519</td>\n",
       "      <td>-0.094434</td>\n",
       "      <td>-0.157048</td>\n",
       "    </tr>\n",
       "    <tr>\n",
       "      <th>1</th>\n",
       "      <td>0.043074</td>\n",
       "      <td>-0.001703</td>\n",
       "      <td>-0.232695</td>\n",
       "      <td>-0.236588</td>\n",
       "      <td>2.171389</td>\n",
       "    </tr>\n",
       "    <tr>\n",
       "      <th>2</th>\n",
       "      <td>-0.700326</td>\n",
       "      <td>-0.415378</td>\n",
       "      <td>-0.160648</td>\n",
       "      <td>-0.160390</td>\n",
       "      <td>-0.257380</td>\n",
       "    </tr>\n",
       "    <tr>\n",
       "      <th>3</th>\n",
       "      <td>0.483305</td>\n",
       "      <td>-0.799421</td>\n",
       "      <td>2.483039</td>\n",
       "      <td>2.423885</td>\n",
       "      <td>0.310034</td>\n",
       "    </tr>\n",
       "    <tr>\n",
       "      <th>4</th>\n",
       "      <td>-0.313136</td>\n",
       "      <td>1.686410</td>\n",
       "      <td>-0.573859</td>\n",
       "      <td>-0.536664</td>\n",
       "      <td>-0.175973</td>\n",
       "    </tr>\n",
       "  </tbody>\n",
       "</table>\n",
       "</div>"
      ],
      "text/plain": [
       "          L         R         F         M         C\n",
       "0  1.161084 -0.377500 -0.086519 -0.094434 -0.157048\n",
       "1  0.043074 -0.001703 -0.232695 -0.236588  2.171389\n",
       "2 -0.700326 -0.415378 -0.160648 -0.160390 -0.257380\n",
       "3  0.483305 -0.799421  2.483039  2.423885  0.310034\n",
       "4 -0.313136  1.686410 -0.573859 -0.536664 -0.175973"
      ]
     },
     "execution_count": 18,
     "metadata": {},
     "output_type": "execute_result"
    }
   ],
   "source": [
    "cluster_center = pd.DataFrame(kmeans_model.cluster_centers_,columns=['L','R','F','M','C'])\n",
    "cluster_center"
   ]
  },
  {
   "cell_type": "code",
   "execution_count": 19,
   "metadata": {
    "ExecuteTime": {
     "end_time": "2020-07-21T03:17:40.385041Z",
     "start_time": "2020-07-21T03:17:40.368629Z"
    }
   },
   "outputs": [
    {
     "data": {
      "text/html": [
       "<div>\n",
       "<style scoped>\n",
       "    .dataframe tbody tr th:only-of-type {\n",
       "        vertical-align: middle;\n",
       "    }\n",
       "\n",
       "    .dataframe tbody tr th {\n",
       "        vertical-align: top;\n",
       "    }\n",
       "\n",
       "    .dataframe thead th {\n",
       "        text-align: right;\n",
       "    }\n",
       "</style>\n",
       "<table border=\"1\" class=\"dataframe\">\n",
       "  <thead>\n",
       "    <tr style=\"text-align: right;\">\n",
       "      <th></th>\n",
       "      <th>L</th>\n",
       "      <th>R</th>\n",
       "      <th>F</th>\n",
       "      <th>M</th>\n",
       "      <th>C</th>\n",
       "    </tr>\n",
       "    <tr>\n",
       "      <th>0</th>\n",
       "      <th></th>\n",
       "      <th></th>\n",
       "      <th></th>\n",
       "      <th></th>\n",
       "      <th></th>\n",
       "    </tr>\n",
       "  </thead>\n",
       "  <tbody>\n",
       "    <tr>\n",
       "      <th>3</th>\n",
       "      <td>1.161084</td>\n",
       "      <td>-0.377500</td>\n",
       "      <td>-0.086519</td>\n",
       "      <td>-0.094434</td>\n",
       "      <td>-0.157048</td>\n",
       "    </tr>\n",
       "    <tr>\n",
       "      <th>1</th>\n",
       "      <td>0.043074</td>\n",
       "      <td>-0.001703</td>\n",
       "      <td>-0.232695</td>\n",
       "      <td>-0.236588</td>\n",
       "      <td>2.171389</td>\n",
       "    </tr>\n",
       "    <tr>\n",
       "      <th>0</th>\n",
       "      <td>-0.700326</td>\n",
       "      <td>-0.415378</td>\n",
       "      <td>-0.160648</td>\n",
       "      <td>-0.160390</td>\n",
       "      <td>-0.257380</td>\n",
       "    </tr>\n",
       "    <tr>\n",
       "      <th>2</th>\n",
       "      <td>0.483305</td>\n",
       "      <td>-0.799421</td>\n",
       "      <td>2.483039</td>\n",
       "      <td>2.423885</td>\n",
       "      <td>0.310034</td>\n",
       "    </tr>\n",
       "    <tr>\n",
       "      <th>4</th>\n",
       "      <td>-0.313136</td>\n",
       "      <td>1.686410</td>\n",
       "      <td>-0.573859</td>\n",
       "      <td>-0.536664</td>\n",
       "      <td>-0.175973</td>\n",
       "    </tr>\n",
       "  </tbody>\n",
       "</table>\n",
       "</div>"
      ],
      "text/plain": [
       "          L         R         F         M         C\n",
       "0                                                  \n",
       "3  1.161084 -0.377500 -0.086519 -0.094434 -0.157048\n",
       "1  0.043074 -0.001703 -0.232695 -0.236588  2.171389\n",
       "0 -0.700326 -0.415378 -0.160648 -0.160390 -0.257380\n",
       "2  0.483305 -0.799421  2.483039  2.423885  0.310034\n",
       "4 -0.313136  1.686410 -0.573859 -0.536664 -0.175973"
      ]
     },
     "execution_count": 19,
     "metadata": {},
     "output_type": "execute_result"
    }
   ],
   "source": [
    "cluster_center.index = pd.DataFrame(kmeans_model.labels_).drop_duplicates().iloc[:,0]\n",
    "cluster_center"
   ]
  },
  {
   "cell_type": "code",
   "execution_count": 20,
   "metadata": {
    "ExecuteTime": {
     "end_time": "2020-07-21T03:17:41.538035Z",
     "start_time": "2020-07-21T03:17:41.192018Z"
    }
   },
   "outputs": [
    {
     "data": {
      "text/plain": [
       "[1.1610839914476876,\n",
       " 0.043074474425497195,\n",
       " -0.7003260442151638,\n",
       " 0.48330462838138805,\n",
       " -0.31313633036028476]"
      ]
     },
     "execution_count": 20,
     "metadata": {},
     "output_type": "execute_result"
    }
   ],
   "source": [
    "import matplotlib.pyplot as plt\n",
    "# 雷达图\n",
    "labels = ['L','R','F','M','C']\n",
    "legen = ['customer' + str(i+1) for i  in cluster_center.index]\n",
    "lstype = ['-','--',(0,(3,5,1,5,1,5)),\":\",'-.']\n",
    "kinds = list(cluster_center.iloc[:,0])\n",
    "kinds"
   ]
  },
  {
   "cell_type": "code",
   "execution_count": 21,
   "metadata": {
    "ExecuteTime": {
     "end_time": "2020-07-21T03:17:41.754647Z",
     "start_time": "2020-07-21T03:17:41.744528Z"
    }
   },
   "outputs": [
    {
     "data": {
      "text/html": [
       "<div>\n",
       "<style scoped>\n",
       "    .dataframe tbody tr th:only-of-type {\n",
       "        vertical-align: middle;\n",
       "    }\n",
       "\n",
       "    .dataframe tbody tr th {\n",
       "        vertical-align: top;\n",
       "    }\n",
       "\n",
       "    .dataframe thead th {\n",
       "        text-align: right;\n",
       "    }\n",
       "</style>\n",
       "<table border=\"1\" class=\"dataframe\">\n",
       "  <thead>\n",
       "    <tr style=\"text-align: right;\">\n",
       "      <th></th>\n",
       "      <th>L</th>\n",
       "      <th>R</th>\n",
       "      <th>F</th>\n",
       "      <th>M</th>\n",
       "      <th>C</th>\n",
       "      <th>L</th>\n",
       "    </tr>\n",
       "    <tr>\n",
       "      <th>0</th>\n",
       "      <th></th>\n",
       "      <th></th>\n",
       "      <th></th>\n",
       "      <th></th>\n",
       "      <th></th>\n",
       "      <th></th>\n",
       "    </tr>\n",
       "  </thead>\n",
       "  <tbody>\n",
       "    <tr>\n",
       "      <th>3</th>\n",
       "      <td>1.161084</td>\n",
       "      <td>-0.377500</td>\n",
       "      <td>-0.086519</td>\n",
       "      <td>-0.094434</td>\n",
       "      <td>-0.157048</td>\n",
       "      <td>1.161084</td>\n",
       "    </tr>\n",
       "    <tr>\n",
       "      <th>1</th>\n",
       "      <td>0.043074</td>\n",
       "      <td>-0.001703</td>\n",
       "      <td>-0.232695</td>\n",
       "      <td>-0.236588</td>\n",
       "      <td>2.171389</td>\n",
       "      <td>0.043074</td>\n",
       "    </tr>\n",
       "    <tr>\n",
       "      <th>0</th>\n",
       "      <td>-0.700326</td>\n",
       "      <td>-0.415378</td>\n",
       "      <td>-0.160648</td>\n",
       "      <td>-0.160390</td>\n",
       "      <td>-0.257380</td>\n",
       "      <td>-0.700326</td>\n",
       "    </tr>\n",
       "    <tr>\n",
       "      <th>2</th>\n",
       "      <td>0.483305</td>\n",
       "      <td>-0.799421</td>\n",
       "      <td>2.483039</td>\n",
       "      <td>2.423885</td>\n",
       "      <td>0.310034</td>\n",
       "      <td>0.483305</td>\n",
       "    </tr>\n",
       "    <tr>\n",
       "      <th>4</th>\n",
       "      <td>-0.313136</td>\n",
       "      <td>1.686410</td>\n",
       "      <td>-0.573859</td>\n",
       "      <td>-0.536664</td>\n",
       "      <td>-0.175973</td>\n",
       "      <td>-0.313136</td>\n",
       "    </tr>\n",
       "  </tbody>\n",
       "</table>\n",
       "</div>"
      ],
      "text/plain": [
       "          L         R         F         M         C         L\n",
       "0                                                            \n",
       "3  1.161084 -0.377500 -0.086519 -0.094434 -0.157048  1.161084\n",
       "1  0.043074 -0.001703 -0.232695 -0.236588  2.171389  0.043074\n",
       "0 -0.700326 -0.415378 -0.160648 -0.160390 -0.257380 -0.700326\n",
       "2  0.483305 -0.799421  2.483039  2.423885  0.310034  0.483305\n",
       "4 -0.313136  1.686410 -0.573859 -0.536664 -0.175973 -0.313136"
      ]
     },
     "execution_count": 21,
     "metadata": {},
     "output_type": "execute_result"
    }
   ],
   "source": [
    "cluster_center = pd.concat([cluster_center,cluster_center[['L']]],axis=1)\n",
    "cluster_center"
   ]
  },
  {
   "cell_type": "code",
   "execution_count": 22,
   "metadata": {
    "ExecuteTime": {
     "end_time": "2020-07-21T03:17:42.878561Z",
     "start_time": "2020-07-21T03:17:42.871540Z"
    }
   },
   "outputs": [
    {
     "data": {
      "text/plain": [
       "array([[ 1.16108399e+00, -3.77499994e-01, -8.65189669e-02,\n",
       "        -9.44338125e-02, -1.57047742e-01,  1.16108399e+00],\n",
       "       [ 4.30744744e-02, -1.70312626e-03, -2.32695277e-01,\n",
       "        -2.36587633e-01,  2.17138891e+00,  4.30744744e-02],\n",
       "       [-7.00326044e-01, -4.15377753e-01, -1.60648047e-01,\n",
       "        -1.60390485e-01, -2.57380124e-01, -7.00326044e-01],\n",
       "       [ 4.83304628e-01, -7.99421213e-01,  2.48303869e+00,\n",
       "         2.42388525e+00,  3.10034088e-01,  4.83304628e-01],\n",
       "       [-3.13136330e-01,  1.68641023e+00, -5.73859336e-01,\n",
       "        -5.36663736e-01, -1.75973079e-01, -3.13136330e-01]])"
      ]
     },
     "execution_count": 22,
     "metadata": {},
     "output_type": "execute_result"
    }
   ],
   "source": [
    "centers = np.array(cluster_center.iloc[:,:])\n",
    "centers"
   ]
  },
  {
   "cell_type": "code",
   "execution_count": 23,
   "metadata": {
    "ExecuteTime": {
     "end_time": "2020-07-21T03:17:46.112010Z",
     "start_time": "2020-07-21T03:17:46.105398Z"
    }
   },
   "outputs": [
    {
     "data": {
      "text/plain": [
       "array([0.        , 1.25663706, 2.51327412, 3.76991118, 5.02654825,\n",
       "       0.        ])"
      ]
     },
     "execution_count": 23,
     "metadata": {},
     "output_type": "execute_result"
    }
   ],
   "source": [
    "n = len(labels)\n",
    "angle = np.linspace(0,2 * np.pi, n,endpoint=False)\n",
    "angle = np.concatenate((angle,[angle[0]]))\n",
    "angle\n"
   ]
  },
  {
   "cell_type": "code",
   "execution_count": 24,
   "metadata": {
    "ExecuteTime": {
     "end_time": "2020-07-21T03:17:46.617326Z",
     "start_time": "2020-07-21T03:17:46.351325Z"
    }
   },
   "outputs": [
    {
     "data": {
      "image/png": "[encoded data removed]",
      "text/plain": [
       "<Figure size 576x432 with 1 Axes>"
      ]
     },
     "metadata": {
      "needs_background": "light"
     },
     "output_type": "display_data"
    }
   ],
   "source": [
    "fig = plt.figure(figsize=(8,6))\n",
    "ax = fig.add_subplot(111,polar=True)\n",
    "for i in range(len(kinds)):\n",
    "    ax.plot(angle,centers[i], linestyle=lstype[i],linewidth=2,label =kinds[i] )\n",
    "\n",
    "    \n",
    "ax.set_thetagrids(angle * 180 /np.pi ,labels)\n",
    "plt.title('customer type')\n",
    "plt.legend(legen)\n",
    "plt.show()"
   ]
  },
  {
   "cell_type": "markdown",
   "metadata": {},
   "source": [
    "# LRFMC\n",
    "- L （关系长度）= LOAD_TIME - FFP_DATE\n",
    "- R  (消费的时间间隔）= LAST_TO_END\n",
    "- F  (消费频率) = FLIGHT_COUNT\n",
    "- M  (飞行里程) = SEG_KM_SUM\n",
    "- C  (折扣率的平均值）= avg_discount"
   ]
  },
  {
   "cell_type": "code",
   "execution_count": 28,
   "metadata": {
    "ExecuteTime": {
     "end_time": "2020-07-21T03:24:37.600415Z",
     "start_time": "2020-07-21T03:24:36.439664Z"
    }
   },
   "outputs": [
    {
     "data": {
      "image/png": "[encoded data removed]",
      "text/plain": [
       "<Figure size 576x360 with 1 Axes>"
      ]
     },
     "metadata": {
      "needs_background": "light"
     },
     "output_type": "display_data"
    }
   ],
   "source": [
    "from datetime import datetime\n",
    "ffp = airline['FFP_DATE'].apply(lambda x : datetime.strptime(x, '%Y/%m/%d'))\n",
    "ffp_year = ffp.map(lambda x : x.year)\n",
    "\n",
    "fig = plt.figure(figsize=(8,5))\n",
    "plt.rcParams['font.sans-serif'] = 'SimHei'\n",
    "plt.rcParams['axes.unicode_minus'] = False\n",
    "\n",
    "plt.hist(ffp_year ,bins= 'auto')\n",
    "\n",
    "plt.xlabel('年份')\n",
    "plt.ylabel('新增会员人数')\n",
    "plt.title('各年份新增会员人数')\n",
    "plt.show()"
   ]
  },
  {
   "cell_type": "code",
   "execution_count": 29,
   "metadata": {
    "ExecuteTime": {
     "end_time": "2020-07-21T03:28:28.703841Z",
     "start_time": "2020-07-21T03:28:28.627277Z"
    }
   },
   "outputs": [
    {
     "data": {
      "image/png": "[encoded data removed]",
      "text/plain": [
       "<Figure size 504x288 with 1 Axes>"
      ]
     },
     "metadata": {},
     "output_type": "display_data"
    }
   ],
   "source": [
    "male = pd.value_counts(airline['GENDER'])['男']\n",
    "female = pd.value_counts(airline['GENDER'])['女']\n",
    "\n",
    "fig = plt.figure(figsize= (7,4))\n",
    "plt.pie([male,female], labels=['男','女'] , autopct='%.1f%%')\n",
    "\n",
    "plt.title('男女比例')\n",
    "plt.show()"
   ]
  },
  {
   "cell_type": "code",
   "execution_count": 30,
   "metadata": {
    "ExecuteTime": {
     "end_time": "2020-07-21T03:35:00.072880Z",
     "start_time": "2020-07-21T03:34:59.942785Z"
    }
   },
   "outputs": [
    {
     "data": {
      "image/png": "[encoded data removed]",
      "text/plain": [
       "<Figure size 576x360 with 1 Axes>"
      ]
     },
     "metadata": {
      "needs_background": "light"
     },
     "output_type": "display_data"
    }
   ],
   "source": [
    "lv_four = pd.value_counts(airline['FFP_TIER'])[4]\n",
    "lv_five = pd.value_counts(airline['FFP_TIER'])[5]\n",
    "lv_six = pd.value_counts(airline['FFP_TIER'])[6]\n",
    "\n",
    "fig = plt.figure(figsize=(8,5))\n",
    "plt.bar(range(3), height= [lv_four,lv_five,lv_six],width= 0.4,alpha = 0.8)\n",
    "\n",
    "plt.xticks([index for index in range (3)],['4','5','6'])\n",
    "plt.xlabel('会员等级')\n",
    "plt.ylabel('会员人数')\n",
    "plt.title('会员等级分布情况')\n",
    "plt.show()\n",
    "           "
   ]
  },
  {
   "cell_type": "code",
   "execution_count": 33,
   "metadata": {
    "ExecuteTime": {
     "end_time": "2020-07-21T03:38:49.422061Z",
     "start_time": "2020-07-21T03:38:49.292451Z"
    }
   },
   "outputs": [
    {
     "data": {
      "image/png": "[encoded data removed]",
      "text/plain": [
       "<Figure size 432x792 with 1 Axes>"
      ]
     },
     "metadata": {
      "needs_background": "light"
     },
     "output_type": "display_data"
    }
   ],
   "source": [
    "age = airline['AGE'].dropna()\n",
    "age = age.astype('int64')\n",
    "fig = plt.figure(figsize=(6,11))\n",
    "plt.boxplot(age, patch_artist= True,labels=['会员年龄'])\n",
    "\n",
    "plt.grid(axis='y')\n",
    "plt.show()"
   ]
  },
  {
   "cell_type": "code",
   "execution_count": 35,
   "metadata": {
    "ExecuteTime": {
     "end_time": "2020-07-21T03:41:17.801282Z",
     "start_time": "2020-07-21T03:41:17.658621Z"
    }
   },
   "outputs": [
    {
     "data": {
      "image/png": "[encoded data removed]",
      "text/plain": [
       "<Figure size 432x792 with 1 Axes>"
      ]
     },
     "metadata": {
      "needs_background": "light"
     },
     "output_type": "display_data"
    }
   ],
   "source": [
    "lte = airline['LAST_TO_END']\n",
    "fig = plt.figure(figsize=(6,11))\n",
    "plt.boxplot(lte, patch_artist= True,labels=['飞行时长'])\n",
    "\n",
    "plt.grid(axis='y')\n",
    "plt.show()"
   ]
  },
  {
   "cell_type": "code",
   "execution_count": 36,
   "metadata": {
    "ExecuteTime": {
     "end_time": "2020-07-21T03:42:02.356271Z",
     "start_time": "2020-07-21T03:42:02.223307Z"
    }
   },
   "outputs": [
    {
     "data": {
      "image/png": "[encoded data removed]",
      "text/plain": [
       "<Figure size 432x792 with 1 Axes>"
      ]
     },
     "metadata": {
      "needs_background": "light"
     },
     "output_type": "display_data"
    }
   ],
   "source": [
    " fc = airline['FLIGHT_COUNT']\n",
    "fig = plt.figure(figsize=(6,11))\n",
    "plt.boxplot(fc , patch_artist= True,labels=['飞行次数'])\n",
    "\n",
    "plt.grid(axis='y')\n",
    "plt.show()"
   ]
  },
  {
   "cell_type": "code",
   "execution_count": null,
   "metadata": {},
   "outputs": [],
   "source": []
  }
 ],
 "metadata": {
  "kernelspec": {
   "display_name": "Python 3",
   "language": "python",
   "name": "python3"
  },
  "language_info": {
   "codemirror_mode": {
    "name": "ipython",
    "version": 3
   },
   "file_extension": ".py",
   "mimetype": "text/x-python",
   "name": "python",
   "nbconvert_exporter": "python",
   "pygments_lexer": "ipython3",
   "version": "3.8.3"
  },
  "varInspector": {
   "cols": {
    "lenName": 16,
    "lenType": 16,
    "lenVar": 40
   },
   "kernels_config": {
    "python": {
     "delete_cmd_postfix": "",
     "delete_cmd_prefix": "del ",
     "library": "var_list.py",
     "varRefreshCmd": "print(var_dic_list())"
    },
    "r": {
     "delete_cmd_postfix": ") ",
     "delete_cmd_prefix": "rm(",
     "library": "var_list.r",
     "varRefreshCmd": "cat(var_dic_list()) "
    }
   },
   "oldHeight": 122,
   "position": {
    "height": "144px",
    "left": "515px",
    "right": "20px",
    "top": "1px",
    "width": "250px"
   },
   "types_to_exclude": [
    "module",
    "function",
    "builtin_function_or_method",
    "instance",
    "_Feature"
   ],
   "varInspector_section_display": "block",
   "window_display": true
  }
 },
 "nbformat": 4,
 "nbformat_minor": 4
}
